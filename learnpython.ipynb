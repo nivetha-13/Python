{
  "nbformat": 4,
  "nbformat_minor": 0,
  "metadata": {
    "colab": {
      "provenance": [],
      "collapsed_sections": [],
      "authorship_tag": "ABX9TyNCMP1TkqGB2y0hnIUtcoR9",
      "include_colab_link": true
    },
    "kernelspec": {
      "name": "python3",
      "display_name": "Python 3"
    },
    "language_info": {
      "name": "python"
    }
  },
  "cells": [
    {
      "cell_type": "markdown",
      "metadata": {
        "id": "view-in-github",
        "colab_type": "text"
      },
      "source": [
        "<a href=\"https://colab.research.google.com/github/nivetha-13/Python/blob/main/learnpython.ipynb\" target=\"_parent\"><img src=\"https://colab.research.google.com/assets/colab-badge.svg\" alt=\"Open In Colab\"/></a>"
      ]
    },
    {
      "cell_type": "markdown",
      "source": [
        "Explicit type casting - Converting 1 data type into another data type"
      ],
      "metadata": {
        "id": "RsY6Ksf5cuJj"
      }
    },
    {
      "cell_type": "code",
      "source": [
        "num_itr=123\n",
        "num_str=\"456\"\n",
        "num_sum=num_itr+int(num_str)\n",
        "print(\"sum of num_itrt and num_str:\",num_sum)"
      ],
      "metadata": {
        "colab": {
          "base_uri": "https://localhost:8080/"
        },
        "id": "qAQmiuruc7T1",
        "outputId": "8a273c5b-0ff7-4560-b444-cfc856d4f673"
      },
      "execution_count": 2,
      "outputs": [
        {
          "output_type": "stream",
          "name": "stdout",
          "text": [
            "sum of num_itrt and num_str: 579\n"
          ]
        }
      ]
    },
    {
      "cell_type": "markdown",
      "source": [],
      "metadata": {
        "id": "4pxDU6U6deHD"
      }
    },
    {
      "cell_type": "markdown",
      "source": [
        "To find the area of a triangle"
      ],
      "metadata": {
        "id": "6jE2i44FdhPS"
      }
    },
    {
      "cell_type": "code",
      "execution_count": null,
      "metadata": {
        "colab": {
          "base_uri": "https://localhost:8080/"
        },
        "id": "hZIh3aFxx1aX",
        "outputId": "6cd94f0f-dfc8-4248-a41d-cd9e0c425c37"
      },
      "outputs": [
        {
          "output_type": "stream",
          "name": "stdout",
          "text": [
            "Area of a triangle is: 25.0\n"
          ]
        }
      ],
      "source": [
        "base=10\n",
        "height=5\n",
        "area=1/2*(base*height)\n",
        "print(\"Area of a triangle is:\" ,area)"
      ]
    },
    {
      "cell_type": "markdown",
      "source": [
        "number is odd or even\n"
      ],
      "metadata": {
        "id": "UKeYc-dI2C4i"
      }
    },
    {
      "cell_type": "code",
      "source": [
        "num=input(\"Enter a number: \")\n",
        "num=int(num)\n",
        "if num%2==0:\n",
        "    print(\"Number is even\")\n",
        "else:\n",
        "    print(\"Number is odd\")"
      ],
      "metadata": {
        "colab": {
          "base_uri": "https://localhost:8080/"
        },
        "id": "0vwr03SL5HV-",
        "outputId": "1aefb5c6-29a4-437b-920d-afdd2a98b11f"
      },
      "execution_count": null,
      "outputs": [
        {
          "output_type": "stream",
          "name": "stdout",
          "text": [
            "Enter a number: 3849732782\n",
            "Number is even\n"
          ]
        }
      ]
    },
    {
      "cell_type": "markdown",
      "source": [
        "write a program that asks user to enter a dish name and it should print which cuisine it is.\n"
      ],
      "metadata": {
        "id": "kVmhrTqoXKux"
      }
    },
    {
      "cell_type": "code",
      "source": [
        "indian=[\"Samosa\",\"Idly\",\"Paratta\"]\n",
        "Chinese=[\"fried_chicken\",\"Roll\",\"Momos\"]\n",
        "Italian=[\"Pizza\",\"Pasta\"]\n",
        "\n",
        "dish=input(\"Enter you fav dish name:\")\n",
        "if dish in indian:\n",
        "  print(\"Indian Cuisine\")\n",
        "elif dish in Chinese:\n",
        "  print(\"Chinese Cuisine\")\n",
        "elif dish in Italian:\n",
        "  print(\"Italian\")\n",
        "else:\n",
        "  print(\"Other cuisine:\",dish)"
      ],
      "metadata": {
        "colab": {
          "base_uri": "https://localhost:8080/"
        },
        "id": "ETOF2jAxXZGA",
        "outputId": "8efd5743-e1c1-4e80-f992-ccc4aea9b140"
      },
      "execution_count": null,
      "outputs": [
        {
          "output_type": "stream",
          "name": "stdout",
          "text": [
            "Enter you fav dish name:Aloo\n",
            "Other cuisine: Aloo\n"
          ]
        }
      ]
    }
  ]
}