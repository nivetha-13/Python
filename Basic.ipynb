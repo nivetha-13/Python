{
  "nbformat": 4,
  "nbformat_minor": 0,
  "metadata": {
    "colab": {
      "provenance": [],
      "collapsed_sections": [],
      "authorship_tag": "ABX9TyNAB3zFjWDJwsSWDw6/xIN5",
      "include_colab_link": true
    },
    "kernelspec": {
      "name": "python3",
      "display_name": "Python 3"
    },
    "language_info": {
      "name": "python"
    }
  },
  "cells": [
    {
      "cell_type": "markdown",
      "metadata": {
        "id": "view-in-github",
        "colab_type": "text"
      },
      "source": [
        "<a href=\"https://colab.research.google.com/github/nivetha-13/Python/blob/main/Basic.ipynb\" target=\"_parent\"><img src=\"https://colab.research.google.com/assets/colab-badge.svg\" alt=\"Open In Colab\"/></a>"
      ]
    },
    {
      "cell_type": "markdown",
      "source": [
        "Difference between / and // operators\n",
        "\n",
        "/ - Classic division ; Example output : 3.75\n",
        "// - floor division ; Example output : 3"
      ],
      "metadata": {
        "id": "4fM5bpK4fAmF"
      }
    },
    {
      "cell_type": "code",
      "source": [
        "# Arithmetic operators ----------------------------\n",
        "\n",
        "x = 15\n",
        "y = 4\n",
        "\n",
        "# Output: x + y = 19\n",
        "print('x + y =',x+y)\n",
        "# Output: x - y = 11\n",
        "print('x - y =',x-y)\n",
        "# Output: x * y = 60\n",
        "print('x * y =',x*y)\n",
        "# Output: x / y = 3.75 - Classic division\n",
        "print('x / y =',x/y)\n",
        "# Output: x // y = 3 -- floor division\n",
        "print('x // y =',x//y)\n",
        "# Output: x ** y = 50625\n",
        "print('x ** y =',x**y)"
      ],
      "metadata": {
        "colab": {
          "base_uri": "https://localhost:8080/"
        },
        "id": "zzs1F4mUfIqU",
        "outputId": "77b589b6-7012-42e0-def9-b090420180fd"
      },
      "execution_count": 1,
      "outputs": [
        {
          "output_type": "stream",
          "name": "stdout",
          "text": [
            "x + y = 19\n",
            "x - y = 11\n",
            "x * y = 60\n",
            "x / y = 3.75\n",
            "x // y = 3\n",
            "x ** y = 50625\n"
          ]
        }
      ]
    },
    {
      "cell_type": "code",
      "source": [
        "# comparision operators ----------------------------\n",
        "\n",
        "x = 10\n",
        "y = 12\n",
        "\n",
        "# Output: x > y is False\n",
        "print('x > y  is',x>y)\n",
        "# Output: x < y is True\n",
        "print('x < y  is',x<y)\n",
        "# Output: x == y is False\n",
        "print('x == y is',x==y)\n",
        "# Output: x != y is True\n",
        "print('x != y is',x!=y)\n",
        "# Output: x >= y is False\n",
        "print('x >= y is',x>=y)\n",
        "# Output: x <= y is True\n",
        "print('x <= y is',x<=y)\n"
      ],
      "metadata": {
        "colab": {
          "base_uri": "https://localhost:8080/"
        },
        "id": "zVug2m-SgE7-",
        "outputId": "1855b16d-88eb-42f4-e491-99b7595e5ce5"
      },
      "execution_count": 2,
      "outputs": [
        {
          "output_type": "stream",
          "name": "stdout",
          "text": [
            "x > y  is False\n",
            "x < y  is True\n",
            "x == y is False\n",
            "x != y is True\n",
            "x >= y is False\n",
            "x <= y is True\n"
          ]
        }
      ]
    },
    {
      "cell_type": "markdown",
      "source": [
        "Logical operators (AND,OR,NOT)"
      ],
      "metadata": {
        "id": "f02czyvEfFdB"
      }
    },
    {
      "cell_type": "code",
      "source": [
        "# Logical operators ----------------------------\n",
        "\n",
        "# AND - Returns true if both the statements are true\n",
        "# OR - Returns true if any 1 of the statement/ condition is true\n",
        "# NOT - Reverses the result, Returns false if the output is true\n",
        "\n",
        "x = 3\n",
        "y = 4\n",
        "\n",
        "# Output: x and y is False\n",
        "print('x and y is',x and y)\n",
        "\n",
        "# Output: x or y is True\n",
        "print('x or y is',x or y)\n",
        "\n",
        "# Output: not x is False\n",
        "print('not x is',not x)"
      ],
      "metadata": {
        "colab": {
          "base_uri": "https://localhost:8080/"
        },
        "id": "vldI9arsgJvb",
        "outputId": "60acbb2a-1647-4324-8647-d3c6795c9382"
      },
      "execution_count": 4,
      "outputs": [
        {
          "output_type": "stream",
          "name": "stdout",
          "text": [
            "x and y is 4\n",
            "x or y is 3\n",
            "not x is False\n"
          ]
        }
      ]
    },
    {
      "cell_type": "code",
      "source": [
        "Control flow"
      ],
      "metadata": {
        "id": "_TKEuyHpk8CP"
      },
      "execution_count": null,
      "outputs": []
    },
    {
      "cell_type": "markdown",
      "source": [
        "If else\n"
      ],
      "metadata": {
        "id": "JAI17W5dk-dt"
      }
    },
    {
      "cell_type": "code",
      "source": [
        "#-------------------if else\n",
        "\n",
        "a = 33\n",
        "b = 200\n",
        "if (b > a):\n",
        "  print(\"b is greater than a\");\n",
        "\n",
        "a = 33\n",
        "b = 200\n",
        "if b > a:\n",
        "  print(\"b is greater than a\") # you will get an error without indentation\n",
        "\n",
        "a = 33\n",
        "b = 35 # change value and see\n",
        "if a == b:\n",
        "  print(\"a and b are equal\")\n",
        "else:\n",
        "  print(\"a and b are not equal\")\n",
        "\n",
        "a = 200\n",
        "b = 33 # change value and see\n",
        "if b > a:\n",
        "  print(\"b is greater than a\")\n",
        "elif a == b:\n",
        "  print(\"a and b are equal\")\n",
        "else:\n",
        "  print(\"a is greater than b\")\n",
        "\n",
        "#shortcut syntax\n",
        "if a > b: print(\"a is greater than b\")\n",
        "\n",
        "print(\"A\") if a > b else print(\"B\")\n",
        "\n",
        "a = 200\n",
        "b = 33 # change value and see\n",
        "c=300\n",
        "if a > b and c > a:\n",
        "  print(\"Both conditions are True\")\n",
        "\n",
        "if a > b or a > c:\n",
        "  print(\"At least one of the conditions are True\")\n"
      ],
      "metadata": {
        "id": "Dhswd5PMlAWP"
      },
      "execution_count": null,
      "outputs": []
    },
    {
      "cell_type": "markdown",
      "source": [
        "Membership operator (IN , NOT IN)\n",
        "\n",
        "```\n",
        "# This is formatted as code\n",
        "```\n",
        "\n"
      ],
      "metadata": {
        "id": "ecMp9MzplK9e"
      }
    },
    {
      "cell_type": "code",
      "source": [
        "# Membership operators ----------------------------\n",
        "\n",
        "x = 24\n",
        "y = 20\n",
        "list = [10, 20, 30, 40, 50 ]\n",
        "  \n",
        "if  (x not in list):  \n",
        "   print(\"x is NOT present in given list\")\n",
        "else: \n",
        "   print(\"x is  present in given list\")\n",
        "  \n",
        "if ( y in list ): \n",
        "   print(\"y is present in given list\")\n",
        "else: \n",
        "   print(\"y is NOT present in given list\")\n"
      ],
      "metadata": {
        "id": "fl4QVS2MlNRA"
      },
      "execution_count": null,
      "outputs": []
    },
    {
      "cell_type": "markdown",
      "source": [],
      "metadata": {
        "id": "QnC6FCjZla3Z"
      }
    }
  ]
}