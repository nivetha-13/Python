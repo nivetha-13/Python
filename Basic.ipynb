{
  "nbformat": 4,
  "nbformat_minor": 0,
  "metadata": {
    "colab": {
      "provenance": [],
      "collapsed_sections": [],
      "authorship_tag": "ABX9TyN88t84CbhUL12Y+MYTLkub",
      "include_colab_link": true
    },
    "kernelspec": {
      "name": "python3",
      "display_name": "Python 3"
    },
    "language_info": {
      "name": "python"
    }
  },
  "cells": [
    {
      "cell_type": "markdown",
      "metadata": {
        "id": "view-in-github",
        "colab_type": "text"
      },
      "source": [
        "<a href=\"https://colab.research.google.com/github/nivetha-13/Python/blob/main/Basic.ipynb\" target=\"_parent\"><img src=\"https://colab.research.google.com/assets/colab-badge.svg\" alt=\"Open In Colab\"/></a>"
      ]
    },
    {
      "cell_type": "markdown",
      "source": [
        "Difference between / and // operators\n",
        "\n",
        "/ - Classic division ; Example output : 3.75\n",
        "// - floor division ; Example output : 3"
      ],
      "metadata": {
        "id": "4fM5bpK4fAmF"
      }
    },
    {
      "cell_type": "code",
      "source": [
        "# Arithmetic operators ----------------------------\n",
        "\n",
        "x = 15\n",
        "y = 4\n",
        "\n",
        "# Output: x + y = 19\n",
        "print('x + y =',x+y)\n",
        "# Output: x - y = 11\n",
        "print('x - y =',x-y)\n",
        "# Output: x * y = 60\n",
        "print('x * y =',x*y)\n",
        "# Output: x / y = 3.75 - Classic division\n",
        "print('x / y =',x/y)\n",
        "# Output: x // y = 3 -- floor division\n",
        "print('x // y =',x//y)\n",
        "# Output: x ** y = 50625\n",
        "print('x ** y =',x**y)"
      ],
      "metadata": {
        "colab": {
          "base_uri": "https://localhost:8080/"
        },
        "id": "zzs1F4mUfIqU",
        "outputId": "77b589b6-7012-42e0-def9-b090420180fd"
      },
      "execution_count": 1,
      "outputs": [
        {
          "output_type": "stream",
          "name": "stdout",
          "text": [
            "x + y = 19\n",
            "x - y = 11\n",
            "x * y = 60\n",
            "x / y = 3.75\n",
            "x // y = 3\n",
            "x ** y = 50625\n"
          ]
        }
      ]
    },
    {
      "cell_type": "markdown",
      "source": [],
      "metadata": {
        "id": "f02czyvEfFdB"
      }
    }
  ]
}